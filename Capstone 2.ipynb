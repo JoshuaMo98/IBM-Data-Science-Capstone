{
 "cells": [
  {
   "cell_type": "markdown",
   "metadata": {},
   "source": [
    "# INTRODUCTION"
   ]
  },
  {
   "cell_type": "markdown",
   "metadata": {},
   "source": [
    "Due to the COVID-19 disruptions, hospitals generally have reduced capacity to treat victims of car accidents.  Although some countries, particularly European, have instituted lockdowns, this is not the case for the US. Commuter levels are therefore the same as they were in March 2020 pre-COVID, and therefore accident rates are likely the same ceteris paribus. \n",
    "\n",
    "My report will attempt to analyse car accident data and predict the severity of specific accidents by analysing climate and road conditions.  \n",
    "\n",
    "This will serve as forewarning for hospitals to prepare measures to treat these victims, instead of expending resources for less-common injuries/accieents. Additionally, this model will alert state/federal governments to time periods where accidents are more likely, allowing them to respond more effectively. "
   ]
  },
  {
   "cell_type": "markdown",
   "metadata": {},
   "source": [
    "# DATA USAGE"
   ]
  },
  {
   "cell_type": "markdown",
   "metadata": {},
   "source": [
    "The data used will be given by Coursera. It consists of 194673 samples to be analysed.\n",
    "\n",
    "There are numerous attributes such as weather 'WEATHER'; road conditions 'ROADCON' and light conditions (i.e. visibility) 'LIGHTCON'. Other non-essential variables such as \"location\" will be removed as they are not part of the analysis. Data with null values will also be removed. \n",
    "\n",
    "The target will be 'SEVERITYCODE', which measures the severity of any given accident from 0-5 (5 being the most severe) within the dataset."
   ]
  },
  {
   "cell_type": "markdown",
   "metadata": {},
   "source": [
    "# PLEASE NOTE WEEK 1 PROJECT ENDS HERE - EVERYTHING BELOW IS WORK IN PROGRESS"
   ]
  },
  {
   "cell_type": "markdown",
   "metadata": {},
   "source": [
    "# DATA ANALYSIS"
   ]
  },
  {
   "cell_type": "markdown",
   "metadata": {},
   "source": [
    "Importing Required Libraries and Data:"
   ]
  },
  {
   "cell_type": "code",
   "execution_count": 7,
   "metadata": {},
   "outputs": [],
   "source": [
    "import numpy as np\n",
    "import pandas as pd\n",
    "import matplotlib.pyplot as pyplot"
   ]
  },
  {
   "cell_type": "code",
   "execution_count": 10,
   "metadata": {},
   "outputs": [
    {
     "ename": "AttributeError",
     "evalue": "module 'pandas' has no attribute 'read_CSV'",
     "output_type": "error",
     "traceback": [
      "\u001b[0;31m---------------------------------------------------------------------------\u001b[0m",
      "\u001b[0;31mAttributeError\u001b[0m                            Traceback (most recent call last)",
      "\u001b[0;32m<ipython-input-10-253d76c4a11a>\u001b[0m in \u001b[0;36m<module>\u001b[0;34m\u001b[0m\n\u001b[0;32m----> 1\u001b[0;31m \u001b[0mdf\u001b[0m \u001b[0;34m=\u001b[0m \u001b[0mpd\u001b[0m\u001b[0;34m.\u001b[0m\u001b[0mread_CSV\u001b[0m\u001b[0;34m(\u001b[0m\u001b[0;34m'Data Collisions.csv'\u001b[0m\u001b[0;34m,\u001b[0m \u001b[0mlow_memory\u001b[0m\u001b[0;34m=\u001b[0m\u001b[0;32mFalse\u001b[0m\u001b[0;34m)\u001b[0m\u001b[0;34m\u001b[0m\u001b[0;34m\u001b[0m\u001b[0m\n\u001b[0m",
      "\u001b[0;31mAttributeError\u001b[0m: module 'pandas' has no attribute 'read_CSV'"
     ]
    }
   ],
   "source": [
    "df = pd.read_CSV('Data Collisions.csv', low_memory=False)"
   ]
  },
  {
   "cell_type": "code",
   "execution_count": null,
   "metadata": {},
   "outputs": [],
   "source": []
  }
 ],
 "metadata": {
  "kernelspec": {
   "display_name": "Python",
   "language": "python",
   "name": "conda-env-python-py"
  },
  "language_info": {
   "codemirror_mode": {
    "name": "ipython",
    "version": 3
   },
   "file_extension": ".py",
   "mimetype": "text/x-python",
   "name": "python",
   "nbconvert_exporter": "python",
   "pygments_lexer": "ipython3",
   "version": "3.6.11"
  }
 },
 "nbformat": 4,
 "nbformat_minor": 4
}
